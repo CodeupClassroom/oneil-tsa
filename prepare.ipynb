{
 "cells": [
  {
   "cell_type": "code",
   "execution_count": null,
   "id": "3251acbb-8f33-4b12-adb7-e91b01921ba7",
   "metadata": {},
   "outputs": [],
   "source": []
  },
  {
   "cell_type": "markdown",
   "id": "554e37a2-23e6-4632-a6b7-9b1198527888",
   "metadata": {
    "tags": []
   },
   "source": [
    "# Preparing Time Series Data\n",
    "Like most preparation processes, but now with dates!"
   ]
  },
  {
   "cell_type": "code",
   "execution_count": 1,
   "id": "7a4ddbc1-385e-418b-955a-57f6e086c812",
   "metadata": {},
   "outputs": [],
   "source": [
    "import pandas as pd\n",
    "from datetime import timedelta, datetime\n",
    "import numpy as np\n",
    "import matplotlib.pyplot as plt\n",
    "import seaborn as sns\n",
    "import statsmodels.api as sm\n",
    "\n",
    "from env import user, password, host\n",
    "import os\n",
    "# from acquire import wrangle_store_data\n",
    "\n",
    "import warnings\n",
    "warnings.filterwarnings(\"ignore\")\n",
    "\n",
    "# plotting defaults\n",
    "plt.rc('figure', figsize=(13, 7))\n",
    "plt.style.use('seaborn-whitegrid')\n",
    "plt.rc('font', size=16)"
   ]
  },
  {
   "cell_type": "markdown",
   "id": "29403808-97be-430b-91a3-7985f7502ef2",
   "metadata": {},
   "source": [
    "## Acquire\n",
    "We'll start by loading up the data from mysql server."
   ]
  },
  {
   "cell_type": "code",
   "execution_count": 2,
   "id": "c8ad6e73-625f-4570-a6cd-ce0443d7259d",
   "metadata": {},
   "outputs": [],
   "source": [
    "# The following are functions contained in the accompanying acquire.py file\n",
    "\n",
    "def get_db_url(database):\n",
    "    return f'mysql+pymysql://{user}:{password}@{host}/{database}'\n",
    "\n",
    "def get_store_data():\n",
    "    '''\n",
    "    Returns a dataframe of all store data in the tsa_item_demand database and saves a local copy as a csv file.\n",
    "    '''\n",
    "    query = '''\n",
    "    SELECT *\n",
    "    FROM items\n",
    "    JOIN sales USING(item_id)\n",
    "    JOIN stores USING(store_id) \n",
    "    '''\n",
    "    \n",
    "    df = pd.read_sql(query, get_db_url('tsa_item_demand'))\n",
    "    \n",
    "    df.to_csv('tsa_item_demand.csv', index=False)\n",
    "    \n",
    "    return df\n",
    "\n",
    "def wrangle_store_data():\n",
    "    filename = 'tsa_store_data.csv'\n",
    "    \n",
    "    if os.path.isfile(filename):\n",
    "        df = pd.read_csv(filename)\n",
    "    else:\n",
    "        df = get_store_data()\n",
    "        \n",
    "    return df"
   ]
  },
  {
   "cell_type": "code",
   "execution_count": null,
   "id": "e469b69d-b721-4a22-8be5-29e502b5bc86",
   "metadata": {},
   "outputs": [],
   "source": [
    "df = wrangle_store_data()"
   ]
  },
  {
   "cell_type": "code",
   "execution_count": null,
   "id": "10ad88ae-d7f2-48fd-a9ca-c062a236c3f4",
   "metadata": {},
   "outputs": [],
   "source": []
  }
 ],
 "metadata": {
  "kernelspec": {
   "display_name": "Python 3",
   "language": "python",
   "name": "python3"
  },
  "language_info": {
   "codemirror_mode": {
    "name": "ipython",
    "version": 3
   },
   "file_extension": ".py",
   "mimetype": "text/x-python",
   "name": "python",
   "nbconvert_exporter": "python",
   "pygments_lexer": "ipython3",
   "version": "3.9.4"
  }
 },
 "nbformat": 4,
 "nbformat_minor": 5
}
