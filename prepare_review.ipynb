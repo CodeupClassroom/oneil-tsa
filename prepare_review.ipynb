{
 "cells": [
  {
   "cell_type": "code",
   "execution_count": 1,
   "id": "63e0bc16-314c-49ab-878f-a95a8369bd50",
   "metadata": {},
   "outputs": [],
   "source": [
    "\n",
    "\n",
    "import pandas as pd\n",
    "from datetime import timedelta, datetime\n",
    "import numpy as np\n",
    "import matplotlib.pyplot as plt\n",
    "import seaborn as sns\n",
    "import statsmodels.api as sm\n",
    "\n",
    "from env import user, password, host\n",
    "import os\n",
    "\n",
    "import warnings\n",
    "warnings.filterwarnings(\"ignore\")\n",
    "\n",
    "# plotting defaults\n",
    "plt.rc('figure', figsize=(13, 7))\n",
    "plt.style.use('seaborn-whitegrid')\n",
    "plt.rc('font', size=16)"
   ]
  },
  {
   "cell_type": "code",
   "execution_count": 2,
   "id": "223fa16a-32d7-4429-8d33-6fb872dcc31f",
   "metadata": {},
   "outputs": [],
   "source": [
    "# The following are functions contained in the accompanying acquire.py file\n",
    "\n",
    "def get_db_url(database):\n",
    "    return f'mysql+pymysql://{user}:{password}@{host}/{database}'\n",
    "\n",
    "def get_store_data():\n",
    "    '''\n",
    "    Returns a dataframe of all store data in the tsa_item_demand database and saves a local copy as a csv file.\n",
    "    '''\n",
    "    query = '''\n",
    "    SELECT *\n",
    "    FROM items\n",
    "    JOIN sales USING(item_id)\n",
    "    JOIN stores USING(store_id) \n",
    "    '''\n",
    "    \n",
    "    df = pd.read_sql(query, get_db_url('tsa_item_demand'))\n",
    "    \n",
    "    df.to_csv('tsa_item_demand.csv', index=False)\n",
    "    \n",
    "    return df\n",
    "\n",
    "def wrangle_store_data():\n",
    "    filename = 'tsa_item_demand.csv'\n",
    "    \n",
    "    if os.path.isfile(filename):\n",
    "        df = pd.read_csv(filename)\n",
    "    else:\n",
    "        df = get_store_data()\n",
    "        \n",
    "    return df"
   ]
  },
  {
   "cell_type": "code",
   "execution_count": 6,
   "id": "b9c2e1fe-a828-424f-a2a1-3ec0316dfc8d",
   "metadata": {},
   "outputs": [],
   "source": [
    "df = wrangle_store_data()"
   ]
  },
  {
   "cell_type": "markdown",
   "id": "604b46c1-8a6c-47d6-9ad8-29d364cb3be2",
   "metadata": {},
   "source": [
    "    Add a 'month' and 'day of week' column to your dataframe.\n",
    "    "
   ]
  },
  {
   "cell_type": "code",
   "execution_count": 10,
   "id": "72b631fa-1fb7-46d9-aa72-b4162fd1ac1e",
   "metadata": {},
   "outputs": [],
   "source": [
    "df = prepare_store(df)"
   ]
  },
  {
   "cell_type": "code",
   "execution_count": 13,
   "id": "cb4dbbcd-d1ab-4b22-9aad-d34e413071bd",
   "metadata": {},
   "outputs": [],
   "source": [
    "# grab day of week from the datetime index\n",
    "df['day_of_week'] = df.index.day_name()"
   ]
  },
  {
   "cell_type": "code",
   "execution_count": 14,
   "id": "b180310c-d8f9-4a76-848b-f1ab34d6ce2a",
   "metadata": {},
   "outputs": [
    {
     "data": {
      "text/plain": [
       "Index(['January', 'January', 'January', 'January', 'January', 'January',\n",
       "       'January', 'January', 'January', 'January',\n",
       "       ...\n",
       "       'December', 'December', 'December', 'December', 'December', 'December',\n",
       "       'December', 'December', 'December', 'December'],\n",
       "      dtype='object', name='sale_date', length=913000)"
      ]
     },
     "execution_count": 14,
     "metadata": {},
     "output_type": "execute_result"
    }
   ],
   "source": [
    "df.index.strftime('%B')"
   ]
  },
  {
   "cell_type": "code",
   "execution_count": null,
   "id": "dc1773bb-238a-4c8e-91cf-475bfdda950b",
   "metadata": {},
   "outputs": [],
   "source": [
    "# month name from the string-format interpretation of datetime\n",
    "df['month'] = df.index.strftime('%B')"
   ]
  },
  {
   "cell_type": "code",
   "execution_count": 11,
   "id": "b07ac9d2-6e1e-4e7d-b640-75c0b8e9fa7b",
   "metadata": {},
   "outputs": [
    {
     "data": {
      "text/html": [
       "<div>\n",
       "<style scoped>\n",
       "    .dataframe tbody tr th:only-of-type {\n",
       "        vertical-align: middle;\n",
       "    }\n",
       "\n",
       "    .dataframe tbody tr th {\n",
       "        vertical-align: top;\n",
       "    }\n",
       "\n",
       "    .dataframe thead th {\n",
       "        text-align: right;\n",
       "    }\n",
       "</style>\n",
       "<table border=\"1\" class=\"dataframe\">\n",
       "  <thead>\n",
       "    <tr style=\"text-align: right;\">\n",
       "      <th></th>\n",
       "      <th>store_id</th>\n",
       "      <th>item_id</th>\n",
       "      <th>item_upc14</th>\n",
       "      <th>item_upc12</th>\n",
       "      <th>item_brand</th>\n",
       "      <th>item_name</th>\n",
       "      <th>item_price</th>\n",
       "      <th>sale_id</th>\n",
       "      <th>sale_amount</th>\n",
       "      <th>store_address</th>\n",
       "      <th>store_zipcode</th>\n",
       "      <th>store_city</th>\n",
       "      <th>store_state</th>\n",
       "    </tr>\n",
       "    <tr>\n",
       "      <th>sale_date</th>\n",
       "      <th></th>\n",
       "      <th></th>\n",
       "      <th></th>\n",
       "      <th></th>\n",
       "      <th></th>\n",
       "      <th></th>\n",
       "      <th></th>\n",
       "      <th></th>\n",
       "      <th></th>\n",
       "      <th></th>\n",
       "      <th></th>\n",
       "      <th></th>\n",
       "      <th></th>\n",
       "    </tr>\n",
       "  </thead>\n",
       "  <tbody>\n",
       "    <tr>\n",
       "      <th>2013-01-01</th>\n",
       "      <td>1</td>\n",
       "      <td>1</td>\n",
       "      <td>35200264013</td>\n",
       "      <td>35200264013</td>\n",
       "      <td>Riceland</td>\n",
       "      <td>Riceland American Jazmine Rice</td>\n",
       "      <td>0.84</td>\n",
       "      <td>1</td>\n",
       "      <td>13</td>\n",
       "      <td>12125 Alamo Ranch Pkwy</td>\n",
       "      <td>78253</td>\n",
       "      <td>San Antonio</td>\n",
       "      <td>TX</td>\n",
       "    </tr>\n",
       "    <tr>\n",
       "      <th>2013-01-02</th>\n",
       "      <td>1</td>\n",
       "      <td>1</td>\n",
       "      <td>35200264013</td>\n",
       "      <td>35200264013</td>\n",
       "      <td>Riceland</td>\n",
       "      <td>Riceland American Jazmine Rice</td>\n",
       "      <td>0.84</td>\n",
       "      <td>2</td>\n",
       "      <td>11</td>\n",
       "      <td>12125 Alamo Ranch Pkwy</td>\n",
       "      <td>78253</td>\n",
       "      <td>San Antonio</td>\n",
       "      <td>TX</td>\n",
       "    </tr>\n",
       "    <tr>\n",
       "      <th>2013-01-03</th>\n",
       "      <td>1</td>\n",
       "      <td>1</td>\n",
       "      <td>35200264013</td>\n",
       "      <td>35200264013</td>\n",
       "      <td>Riceland</td>\n",
       "      <td>Riceland American Jazmine Rice</td>\n",
       "      <td>0.84</td>\n",
       "      <td>3</td>\n",
       "      <td>14</td>\n",
       "      <td>12125 Alamo Ranch Pkwy</td>\n",
       "      <td>78253</td>\n",
       "      <td>San Antonio</td>\n",
       "      <td>TX</td>\n",
       "    </tr>\n",
       "    <tr>\n",
       "      <th>2013-01-04</th>\n",
       "      <td>1</td>\n",
       "      <td>1</td>\n",
       "      <td>35200264013</td>\n",
       "      <td>35200264013</td>\n",
       "      <td>Riceland</td>\n",
       "      <td>Riceland American Jazmine Rice</td>\n",
       "      <td>0.84</td>\n",
       "      <td>4</td>\n",
       "      <td>13</td>\n",
       "      <td>12125 Alamo Ranch Pkwy</td>\n",
       "      <td>78253</td>\n",
       "      <td>San Antonio</td>\n",
       "      <td>TX</td>\n",
       "    </tr>\n",
       "    <tr>\n",
       "      <th>2013-01-05</th>\n",
       "      <td>1</td>\n",
       "      <td>1</td>\n",
       "      <td>35200264013</td>\n",
       "      <td>35200264013</td>\n",
       "      <td>Riceland</td>\n",
       "      <td>Riceland American Jazmine Rice</td>\n",
       "      <td>0.84</td>\n",
       "      <td>5</td>\n",
       "      <td>10</td>\n",
       "      <td>12125 Alamo Ranch Pkwy</td>\n",
       "      <td>78253</td>\n",
       "      <td>San Antonio</td>\n",
       "      <td>TX</td>\n",
       "    </tr>\n",
       "  </tbody>\n",
       "</table>\n",
       "</div>"
      ],
      "text/plain": [
       "            store_id  item_id   item_upc14   item_upc12 item_brand   \n",
       "sale_date                                                            \n",
       "2013-01-01         1        1  35200264013  35200264013   Riceland  \\\n",
       "2013-01-02         1        1  35200264013  35200264013   Riceland   \n",
       "2013-01-03         1        1  35200264013  35200264013   Riceland   \n",
       "2013-01-04         1        1  35200264013  35200264013   Riceland   \n",
       "2013-01-05         1        1  35200264013  35200264013   Riceland   \n",
       "\n",
       "                                 item_name  item_price  sale_id  sale_amount   \n",
       "sale_date                                                                      \n",
       "2013-01-01  Riceland American Jazmine Rice        0.84        1           13  \\\n",
       "2013-01-02  Riceland American Jazmine Rice        0.84        2           11   \n",
       "2013-01-03  Riceland American Jazmine Rice        0.84        3           14   \n",
       "2013-01-04  Riceland American Jazmine Rice        0.84        4           13   \n",
       "2013-01-05  Riceland American Jazmine Rice        0.84        5           10   \n",
       "\n",
       "                     store_address  store_zipcode   store_city store_state  \n",
       "sale_date                                                                   \n",
       "2013-01-01  12125 Alamo Ranch Pkwy          78253  San Antonio          TX  \n",
       "2013-01-02  12125 Alamo Ranch Pkwy          78253  San Antonio          TX  \n",
       "2013-01-03  12125 Alamo Ranch Pkwy          78253  San Antonio          TX  \n",
       "2013-01-04  12125 Alamo Ranch Pkwy          78253  San Antonio          TX  \n",
       "2013-01-05  12125 Alamo Ranch Pkwy          78253  San Antonio          TX  "
      ]
     },
     "execution_count": 11,
     "metadata": {},
     "output_type": "execute_result"
    }
   ],
   "source": [
    "df.head()"
   ]
  },
  {
   "cell_type": "markdown",
   "id": "d5bb4b12-ad21-4150-a359-6f1a492c4da3",
   "metadata": {},
   "source": [
    "    Add a column to your dataframe, sales_total, which is a derived from sale_amount (total items) and item_price.\n",
    "    "
   ]
  },
  {
   "cell_type": "code",
   "execution_count": 16,
   "id": "23b6b2f2-a662-4914-9232-de1b220d2fa9",
   "metadata": {},
   "outputs": [],
   "source": [
    "df['sales_total'] = df.sale_amount * df.item_price"
   ]
  },
  {
   "cell_type": "markdown",
   "id": "034d1b2e-d949-4e88-b4af-9885d47f7a58",
   "metadata": {},
   "source": [
    "    Make sure all the work that you have done above is reproducible."
   ]
  },
  {
   "cell_type": "code",
   "execution_count": 18,
   "id": "f296dbe0-130a-4451-8592-41c6ac6b9446",
   "metadata": {},
   "outputs": [],
   "source": [
    "def prepare_store(df):\n",
    "    # cut off the junk timestamp\n",
    "    df.sale_date = df.sale_date.str.replace(' 00:00:00 GMT', '')\n",
    "    # convert the sale date into pandas datetime\n",
    "    df.sale_date = pd.to_datetime(df.sale_date)\n",
    "    #set the index as the date time\n",
    "    df = df.set_index('sale_date')\n",
    "    # get sales total as revenue on the item+store+day basis\n",
    "    df['sales_total'] = df.sale_amount * df.item_price\n",
    "    # grab the month name \n",
    "    df.index.strftime('%B')\n",
    "    # grab the day of week\n",
    "    df['day_of_week'] = df.index.day_name()\n",
    "    return df"
   ]
  },
  {
   "cell_type": "markdown",
   "id": "8eef84cc-5cfa-477d-b2ee-31a2b43f72e9",
   "metadata": {},
   "source": [
    "OPSD data:"
   ]
  },
  {
   "cell_type": "code",
   "execution_count": 19,
   "id": "74fffb2b-3c84-444a-ba70-cd4f78ec4d82",
   "metadata": {},
   "outputs": [],
   "source": [
    "df = pd.read_csv('https://raw.githubusercontent.com/jenfly/opsd/master/opsd_germany_daily.csv')"
   ]
  },
  {
   "cell_type": "code",
   "execution_count": 20,
   "id": "6b49d369-6af0-4431-9277-c2baaa055270",
   "metadata": {},
   "outputs": [
    {
     "data": {
      "text/html": [
       "<div>\n",
       "<style scoped>\n",
       "    .dataframe tbody tr th:only-of-type {\n",
       "        vertical-align: middle;\n",
       "    }\n",
       "\n",
       "    .dataframe tbody tr th {\n",
       "        vertical-align: top;\n",
       "    }\n",
       "\n",
       "    .dataframe thead th {\n",
       "        text-align: right;\n",
       "    }\n",
       "</style>\n",
       "<table border=\"1\" class=\"dataframe\">\n",
       "  <thead>\n",
       "    <tr style=\"text-align: right;\">\n",
       "      <th></th>\n",
       "      <th>Date</th>\n",
       "      <th>Consumption</th>\n",
       "      <th>Wind</th>\n",
       "      <th>Solar</th>\n",
       "      <th>Wind+Solar</th>\n",
       "    </tr>\n",
       "  </thead>\n",
       "  <tbody>\n",
       "    <tr>\n",
       "      <th>0</th>\n",
       "      <td>2006-01-01</td>\n",
       "      <td>1069.184</td>\n",
       "      <td>NaN</td>\n",
       "      <td>NaN</td>\n",
       "      <td>NaN</td>\n",
       "    </tr>\n",
       "    <tr>\n",
       "      <th>1</th>\n",
       "      <td>2006-01-02</td>\n",
       "      <td>1380.521</td>\n",
       "      <td>NaN</td>\n",
       "      <td>NaN</td>\n",
       "      <td>NaN</td>\n",
       "    </tr>\n",
       "    <tr>\n",
       "      <th>2</th>\n",
       "      <td>2006-01-03</td>\n",
       "      <td>1442.533</td>\n",
       "      <td>NaN</td>\n",
       "      <td>NaN</td>\n",
       "      <td>NaN</td>\n",
       "    </tr>\n",
       "    <tr>\n",
       "      <th>3</th>\n",
       "      <td>2006-01-04</td>\n",
       "      <td>1457.217</td>\n",
       "      <td>NaN</td>\n",
       "      <td>NaN</td>\n",
       "      <td>NaN</td>\n",
       "    </tr>\n",
       "    <tr>\n",
       "      <th>4</th>\n",
       "      <td>2006-01-05</td>\n",
       "      <td>1477.131</td>\n",
       "      <td>NaN</td>\n",
       "      <td>NaN</td>\n",
       "      <td>NaN</td>\n",
       "    </tr>\n",
       "  </tbody>\n",
       "</table>\n",
       "</div>"
      ],
      "text/plain": [
       "         Date  Consumption  Wind  Solar  Wind+Solar\n",
       "0  2006-01-01     1069.184   NaN    NaN         NaN\n",
       "1  2006-01-02     1380.521   NaN    NaN         NaN\n",
       "2  2006-01-03     1442.533   NaN    NaN         NaN\n",
       "3  2006-01-04     1457.217   NaN    NaN         NaN\n",
       "4  2006-01-05     1477.131   NaN    NaN         NaN"
      ]
     },
     "execution_count": 20,
     "metadata": {},
     "output_type": "execute_result"
    }
   ],
   "source": [
    "df.head()"
   ]
  },
  {
   "cell_type": "markdown",
   "id": "c74de828-603a-41cf-918c-732227906674",
   "metadata": {},
   "source": [
    "That is, you should put the code above into separate functions and be able to re-run the functions and get the same results.\n",
    "\n",
    "Using the OPS data acquired in the Acquire exercises opsd_germany_daily.csv, complete the following:\n",
    "\n",
    "    Convert date column to datetime format.\n",
    "    "
   ]
  },
  {
   "cell_type": "code",
   "execution_count": 21,
   "id": "1c0b50d0-5f7b-4c51-aaa1-ed68d2a72db8",
   "metadata": {},
   "outputs": [],
   "source": [
    "df['Date'] = pd.to_datetime(df['Date'])"
   ]
  },
  {
   "cell_type": "code",
   "execution_count": 25,
   "id": "7d09f4a6-7d40-43f9-aa8a-7098071e2cd1",
   "metadata": {},
   "outputs": [],
   "source": [
    "df.columns = [col.lower().replace('+','_plus_') for col in df.columns]"
   ]
  },
  {
   "cell_type": "code",
   "execution_count": 26,
   "id": "4ad93bd4-4593-42b0-a7d4-8210a0f7ee49",
   "metadata": {},
   "outputs": [
    {
     "data": {
      "text/html": [
       "<div>\n",
       "<style scoped>\n",
       "    .dataframe tbody tr th:only-of-type {\n",
       "        vertical-align: middle;\n",
       "    }\n",
       "\n",
       "    .dataframe tbody tr th {\n",
       "        vertical-align: top;\n",
       "    }\n",
       "\n",
       "    .dataframe thead th {\n",
       "        text-align: right;\n",
       "    }\n",
       "</style>\n",
       "<table border=\"1\" class=\"dataframe\">\n",
       "  <thead>\n",
       "    <tr style=\"text-align: right;\">\n",
       "      <th></th>\n",
       "      <th>date</th>\n",
       "      <th>consumption</th>\n",
       "      <th>wind</th>\n",
       "      <th>solar</th>\n",
       "      <th>wind_plus_solar</th>\n",
       "    </tr>\n",
       "  </thead>\n",
       "  <tbody>\n",
       "    <tr>\n",
       "      <th>0</th>\n",
       "      <td>2006-01-01</td>\n",
       "      <td>1069.184</td>\n",
       "      <td>NaN</td>\n",
       "      <td>NaN</td>\n",
       "      <td>NaN</td>\n",
       "    </tr>\n",
       "    <tr>\n",
       "      <th>1</th>\n",
       "      <td>2006-01-02</td>\n",
       "      <td>1380.521</td>\n",
       "      <td>NaN</td>\n",
       "      <td>NaN</td>\n",
       "      <td>NaN</td>\n",
       "    </tr>\n",
       "    <tr>\n",
       "      <th>2</th>\n",
       "      <td>2006-01-03</td>\n",
       "      <td>1442.533</td>\n",
       "      <td>NaN</td>\n",
       "      <td>NaN</td>\n",
       "      <td>NaN</td>\n",
       "    </tr>\n",
       "    <tr>\n",
       "      <th>3</th>\n",
       "      <td>2006-01-04</td>\n",
       "      <td>1457.217</td>\n",
       "      <td>NaN</td>\n",
       "      <td>NaN</td>\n",
       "      <td>NaN</td>\n",
       "    </tr>\n",
       "    <tr>\n",
       "      <th>4</th>\n",
       "      <td>2006-01-05</td>\n",
       "      <td>1477.131</td>\n",
       "      <td>NaN</td>\n",
       "      <td>NaN</td>\n",
       "      <td>NaN</td>\n",
       "    </tr>\n",
       "  </tbody>\n",
       "</table>\n",
       "</div>"
      ],
      "text/plain": [
       "        date  consumption  wind  solar  wind_plus_solar\n",
       "0 2006-01-01     1069.184   NaN    NaN              NaN\n",
       "1 2006-01-02     1380.521   NaN    NaN              NaN\n",
       "2 2006-01-03     1442.533   NaN    NaN              NaN\n",
       "3 2006-01-04     1457.217   NaN    NaN              NaN\n",
       "4 2006-01-05     1477.131   NaN    NaN              NaN"
      ]
     },
     "execution_count": 26,
     "metadata": {},
     "output_type": "execute_result"
    }
   ],
   "source": [
    "df.head()"
   ]
  },
  {
   "cell_type": "markdown",
   "id": "e7cde341-8773-46ce-a153-d1ec8f8756ab",
   "metadata": {},
   "source": [
    "    Set the index to be the datetime variable.\n",
    "    "
   ]
  },
  {
   "cell_type": "code",
   "execution_count": 33,
   "id": "e4e4ec92-35a6-47fb-bfe0-34d0e7a1668a",
   "metadata": {},
   "outputs": [],
   "source": [
    "# set the datetime index\n",
    "df = df.set_index('date')"
   ]
  },
  {
   "cell_type": "code",
   "execution_count": 34,
   "id": "f75c061c-97fd-4214-aec8-bab4faf80665",
   "metadata": {},
   "outputs": [],
   "source": [
    "# make sure the dates are sorted\n",
    "df = df.sort_index()"
   ]
  },
  {
   "cell_type": "markdown",
   "id": "79b360da-f188-44c4-882f-b80bb661916b",
   "metadata": {},
   "source": [
    "    Plot the distribution of each of your variables.\n",
    "    "
   ]
  },
  {
   "cell_type": "code",
   "execution_count": 35,
   "id": "9bbf8f99-f63c-419d-8efb-1dcc84d20efd",
   "metadata": {},
   "outputs": [
    {
     "data": {
      "image/png": "[encoded data removed]",
      "text/plain": [
       "<Figure size 1300x700 with 1 Axes>"
      ]
     },
     "metadata": {},
     "output_type": "display_data"
    },
    {
     "data": {
      "image/png": "[encoded data removed]",
      "text/plain": [
       "<Figure size 1300x700 with 1 Axes>"
      ]
     },
     "metadata": {},
     "output_type": "display_data"
    },
    {
     "data": {
      "image/png": "[encoded data removed]",
      "text/plain": [
       "<Figure size 1300x700 with 1 Axes>"
      ]
     },
     "metadata": {},
     "output_type": "display_data"
    },
    {
     "data": {
      "image/png": "[encoded data removed]",
      "text/plain": [
       "<Figure size 1300x700 with 1 Axes>"
      ]
     },
     "metadata": {},
     "output_type": "display_data"
    }
   ],
   "source": [
    "for col in df.columns:\n",
    "    plt.hist(df[col])\n",
    "    plt.title(f'Distribution of {col}')\n",
    "    plt.show()"
   ]
  },
  {
   "cell_type": "markdown",
   "id": "8a13a77c-36f5-4608-9171-882ba77763af",
   "metadata": {},
   "source": [
    "    Add a month and a year column to your dataframe.\n",
    "    "
   ]
  },
  {
   "cell_type": "code",
   "execution_count": 36,
   "id": "85a6f703-9132-4fa6-b548-f9107f9c22cb",
   "metadata": {},
   "outputs": [
    {
     "data": {
      "text/plain": [
       "Index([2006, 2006, 2006, 2006, 2006, 2006, 2006, 2006, 2006, 2006,\n",
       "       ...\n",
       "       2017, 2017, 2017, 2017, 2017, 2017, 2017, 2017, 2017, 2017],\n",
       "      dtype='int32', name='date', length=4383)"
      ]
     },
     "execution_count": 36,
     "metadata": {},
     "output_type": "execute_result"
    }
   ],
   "source": [
    "df.index.year"
   ]
  },
  {
   "cell_type": "code",
   "execution_count": 37,
   "id": "5df62786-cafb-4700-9bda-a42b77727848",
   "metadata": {},
   "outputs": [
    {
     "data": {
      "text/plain": [
       "Index([ 1,  1,  1,  1,  1,  1,  1,  1,  1,  1,\n",
       "       ...\n",
       "       12, 12, 12, 12, 12, 12, 12, 12, 12, 12],\n",
       "      dtype='int32', name='date', length=4383)"
      ]
     },
     "execution_count": 37,
     "metadata": {},
     "output_type": "execute_result"
    }
   ],
   "source": [
    "df.index.month"
   ]
  },
  {
   "cell_type": "code",
   "execution_count": 38,
   "id": "870f1a57-78f1-4c95-b74e-601416208d3e",
   "metadata": {},
   "outputs": [],
   "source": [
    "df['month'] = df.index.month\n",
    "df['year'] = df.index.year"
   ]
  },
  {
   "cell_type": "markdown",
   "id": "8a11e00e-9b96-4791-bbff-cbfab5e8b1dd",
   "metadata": {},
   "source": [
    "    Fill any missing values.\n",
    "    "
   ]
  },
  {
   "cell_type": "code",
   "execution_count": 39,
   "id": "412eb9ff-a31c-4f10-8b42-0d6ea0d36c44",
   "metadata": {},
   "outputs": [
    {
     "name": "stdout",
     "output_type": "stream",
     "text": [
      "<class 'pandas.core.frame.DataFrame'>\n",
      "DatetimeIndex: 4383 entries, 2006-01-01 to 2017-12-31\n",
      "Data columns (total 6 columns):\n",
      " #   Column           Non-Null Count  Dtype  \n",
      "---  ------           --------------  -----  \n",
      " 0   consumption      4383 non-null   float64\n",
      " 1   wind             2920 non-null   float64\n",
      " 2   solar            2188 non-null   float64\n",
      " 3   wind_plus_solar  2187 non-null   float64\n",
      " 4   month            4383 non-null   int32  \n",
      " 5   year             4383 non-null   int32  \n",
      "dtypes: float64(4), int32(2)\n",
      "memory usage: 205.5 KB\n"
     ]
    }
   ],
   "source": [
    "df.info()"
   ]
  },
  {
   "cell_type": "code",
   "execution_count": 40,
   "id": "9bcde3ba-4367-44a3-8d15-10716b10ffd6",
   "metadata": {},
   "outputs": [
    {
     "data": {
      "text/html": [
       "<div>\n",
       "<style scoped>\n",
       "    .dataframe tbody tr th:only-of-type {\n",
       "        vertical-align: middle;\n",
       "    }\n",
       "\n",
       "    .dataframe tbody tr th {\n",
       "        vertical-align: top;\n",
       "    }\n",
       "\n",
       "    .dataframe thead th {\n",
       "        text-align: right;\n",
       "    }\n",
       "</style>\n",
       "<table border=\"1\" class=\"dataframe\">\n",
       "  <thead>\n",
       "    <tr style=\"text-align: right;\">\n",
       "      <th></th>\n",
       "      <th>consumption</th>\n",
       "      <th>wind</th>\n",
       "      <th>solar</th>\n",
       "      <th>wind_plus_solar</th>\n",
       "      <th>month</th>\n",
       "    </tr>\n",
       "    <tr>\n",
       "      <th>year</th>\n",
       "      <th></th>\n",
       "      <th></th>\n",
       "      <th></th>\n",
       "      <th></th>\n",
       "      <th></th>\n",
       "    </tr>\n",
       "  </thead>\n",
       "  <tbody>\n",
       "    <tr>\n",
       "      <th>2006</th>\n",
       "      <td>489068.53600</td>\n",
       "      <td>0.000</td>\n",
       "      <td>0.000</td>\n",
       "      <td>0.000</td>\n",
       "      <td>2382</td>\n",
       "    </tr>\n",
       "    <tr>\n",
       "      <th>2007</th>\n",
       "      <td>496631.84700</td>\n",
       "      <td>0.000</td>\n",
       "      <td>0.000</td>\n",
       "      <td>0.000</td>\n",
       "      <td>2382</td>\n",
       "    </tr>\n",
       "    <tr>\n",
       "      <th>2008</th>\n",
       "      <td>495570.87600</td>\n",
       "      <td>0.000</td>\n",
       "      <td>0.000</td>\n",
       "      <td>0.000</td>\n",
       "      <td>2384</td>\n",
       "    </tr>\n",
       "    <tr>\n",
       "      <th>2009</th>\n",
       "      <td>459737.42800</td>\n",
       "      <td>0.000</td>\n",
       "      <td>0.000</td>\n",
       "      <td>0.000</td>\n",
       "      <td>2382</td>\n",
       "    </tr>\n",
       "    <tr>\n",
       "      <th>2010</th>\n",
       "      <td>488588.70000</td>\n",
       "      <td>35911.777</td>\n",
       "      <td>0.000</td>\n",
       "      <td>0.000</td>\n",
       "      <td>2382</td>\n",
       "    </tr>\n",
       "    <tr>\n",
       "      <th>2011</th>\n",
       "      <td>484814.08600</td>\n",
       "      <td>44032.951</td>\n",
       "      <td>0.000</td>\n",
       "      <td>0.000</td>\n",
       "      <td>2382</td>\n",
       "    </tr>\n",
       "    <tr>\n",
       "      <th>2012</th>\n",
       "      <td>469574.75400</td>\n",
       "      <td>45862.667</td>\n",
       "      <td>27887.332</td>\n",
       "      <td>73749.999</td>\n",
       "      <td>2384</td>\n",
       "    </tr>\n",
       "    <tr>\n",
       "      <th>2013</th>\n",
       "      <td>463336.85300</td>\n",
       "      <td>47197.832</td>\n",
       "      <td>29559.780</td>\n",
       "      <td>76697.443</td>\n",
       "      <td>2382</td>\n",
       "    </tr>\n",
       "    <tr>\n",
       "      <th>2014</th>\n",
       "      <td>504164.82100</td>\n",
       "      <td>51107.672</td>\n",
       "      <td>32498.307</td>\n",
       "      <td>83370.502</td>\n",
       "      <td>2382</td>\n",
       "    </tr>\n",
       "    <tr>\n",
       "      <th>2015</th>\n",
       "      <td>505264.56300</td>\n",
       "      <td>77468.994</td>\n",
       "      <td>34907.138</td>\n",
       "      <td>112376.132</td>\n",
       "      <td>2382</td>\n",
       "    </tr>\n",
       "    <tr>\n",
       "      <th>2016</th>\n",
       "      <td>505927.35400</td>\n",
       "      <td>77008.126</td>\n",
       "      <td>34562.824</td>\n",
       "      <td>111570.950</td>\n",
       "      <td>2384</td>\n",
       "    </tr>\n",
       "    <tr>\n",
       "      <th>2017</th>\n",
       "      <td>504736.36939</td>\n",
       "      <td>102667.365</td>\n",
       "      <td>35882.643</td>\n",
       "      <td>138550.008</td>\n",
       "      <td>2382</td>\n",
       "    </tr>\n",
       "  </tbody>\n",
       "</table>\n",
       "</div>"
      ],
      "text/plain": [
       "       consumption        wind      solar  wind_plus_solar  month\n",
       "year                                                             \n",
       "2006  489068.53600       0.000      0.000            0.000   2382\n",
       "2007  496631.84700       0.000      0.000            0.000   2382\n",
       "2008  495570.87600       0.000      0.000            0.000   2384\n",
       "2009  459737.42800       0.000      0.000            0.000   2382\n",
       "2010  488588.70000   35911.777      0.000            0.000   2382\n",
       "2011  484814.08600   44032.951      0.000            0.000   2382\n",
       "2012  469574.75400   45862.667  27887.332        73749.999   2384\n",
       "2013  463336.85300   47197.832  29559.780        76697.443   2382\n",
       "2014  504164.82100   51107.672  32498.307        83370.502   2382\n",
       "2015  505264.56300   77468.994  34907.138       112376.132   2382\n",
       "2016  505927.35400   77008.126  34562.824       111570.950   2384\n",
       "2017  504736.36939  102667.365  35882.643       138550.008   2382"
      ]
     },
     "execution_count": 40,
     "metadata": {},
     "output_type": "execute_result"
    }
   ],
   "source": [
    "df.groupby('year').sum()"
   ]
  },
  {
   "cell_type": "markdown",
   "id": "936eb81e-d84a-4778-9fce-6d989a749f88",
   "metadata": {},
   "source": [
    "Immediate takeaway:\n",
    "It looks like wind rolled out energy production in 2010, and solar in 2012.  \n",
    "\n",
    "Its reasonable that there are no values in these cells because we did not have any data for these up until these years\n",
    "\n"
   ]
  },
  {
   "cell_type": "code",
   "execution_count": 42,
   "id": "07ebc402-7e7d-4e11-8338-b7273fffaaa5",
   "metadata": {},
   "outputs": [],
   "source": [
    "df = df.fillna(0)"
   ]
  },
  {
   "cell_type": "code",
   "execution_count": 43,
   "id": "1f5dcdd7-8892-4a74-b923-dab438b329aa",
   "metadata": {},
   "outputs": [],
   "source": [
    "df['wind_solar'] = df['wind'] + df['solar']"
   ]
  },
  {
   "cell_type": "markdown",
   "id": "a45629f6-709b-4f0a-a22f-fddbcff64afc",
   "metadata": {},
   "source": [
    "    Make sure all the work that you have done above is reproducible.\n",
    "    That is, you should put the code above into separate functions and be able to re-run the functions and get the same results."
   ]
  },
  {
   "cell_type": "code",
   "execution_count": 44,
   "id": "7f63fa98-b365-4199-aafb-190aff9b5165",
   "metadata": {},
   "outputs": [],
   "source": [
    "def prep_germany(df):\n",
    "    '''\n",
    "    Function will take in opsd energy data and return a cleaned dataframe with zeros appropriately filled\n",
    "    datetime formatted,\n",
    "    month and year columns added,\n",
    "    and additive wind and solar column concatenated as wind_solar.\n",
    "    return : a single pandas DataFrame\n",
    "    '''\n",
    "    # clean the column names\n",
    "    df.columns = [col.lower().replace('+','_plus_') for col in df.columns]\n",
    "    # setting date as a pandas datetime\n",
    "    df['date'] = pd.to_datetime(df['date'])\n",
    "    # setting the datetime as the index and sorting those values \n",
    "    df.set_index('date').sort_index()\n",
    "    # month and year as new columns\n",
    "    df['month'] = df.index.month\n",
    "    df['year'] = df.index.year\n",
    "    # fill empty cells with zero\n",
    "    df = df.fillna(0)\n",
    "    #compute an altered wind solar\n",
    "    df['wind_solar'] = df['wind'] + df['solar']\n",
    "    return df"
   ]
  },
  {
   "cell_type": "code",
   "execution_count": null,
   "id": "b4950242-a6e6-4319-97fc-4792367d66d2",
   "metadata": {},
   "outputs": [],
   "source": []
  }
 ],
 "metadata": {
  "kernelspec": {
   "display_name": "Python 3 (ipykernel)",
   "language": "python",
   "name": "python3"
  },
  "language_info": {
   "codemirror_mode": {
    "name": "ipython",
    "version": 3
   },
   "file_extension": ".py",
   "mimetype": "text/x-python",
   "name": "python",
   "nbconvert_exporter": "python",
   "pygments_lexer": "ipython3",
   "version": "3.11.2"
  }
 },
 "nbformat": 4,
 "nbformat_minor": 5
}
